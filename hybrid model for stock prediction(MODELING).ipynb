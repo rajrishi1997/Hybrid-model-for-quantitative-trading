{
 "cells": [
  {
   "cell_type": "markdown",
   "metadata": {},
   "source": [
    "# 1. Importing libraries"
   ]
  },
  {
   "cell_type": "code",
   "execution_count": null,
   "metadata": {},
   "outputs": [],
   "source": [
    "#basic libs\n",
    "import numpy as np\n",
    "import pandas as pd\n",
    "\n",
    "#visualization libs\n",
    "import matplotlib.pyplot as plt \n",
    "import matplotlib.dates as mdates\n",
    "import seaborn as sns\n",
    "from jupyterthemes import jtplot\n",
    "jtplot.style(theme=\"monokai\",context=\"notebook\",ticks=True,grid=True)\n",
    "\n",
    "#warnings\n",
    "import warnings\n",
    "warnings.filterwarnings(\"ignore\")\n",
    "\n",
    "#deep learning libs\n",
    "from tensorflow.keras.models import Sequential\n",
    "from tensorflow.keras.layers import Dense,LSTM,Dropout,Activation\n",
    "from tensorflow.keras.callbacks import EarlyStopping\n",
    "\n",
    "#preprocessing and metrics\n",
    "from sklearn import metrics,preprocessing\n",
    "from sklearn.preprocessing import MinMaxScaler\n",
    "from sklearn.metrics import mean_squared_error,r2_score"
   ]
  },
  {
   "cell_type": "markdown",
   "metadata": {},
   "source": [
    "_________________________________________________________________________________________________"
   ]
  },
  {
   "cell_type": "markdown",
   "metadata": {},
   "source": [
    "# 2. Importing the created dataset"
   ]
  },
  {
   "cell_type": "code",
   "execution_count": 2,
   "metadata": {},
   "outputs": [
    {
     "data": {
      "text/html": [
       "<div>\n",
       "<style scoped>\n",
       "    .dataframe tbody tr th:only-of-type {\n",
       "        vertical-align: middle;\n",
       "    }\n",
       "\n",
       "    .dataframe tbody tr th {\n",
       "        vertical-align: top;\n",
       "    }\n",
       "\n",
       "    .dataframe thead th {\n",
       "        text-align: right;\n",
       "    }\n",
       "</style>\n",
       "<table border=\"1\" class=\"dataframe\">\n",
       "  <thead>\n",
       "    <tr style=\"text-align: right;\">\n",
       "      <th></th>\n",
       "      <th>Open</th>\n",
       "      <th>High</th>\n",
       "      <th>Low</th>\n",
       "      <th>Close</th>\n",
       "      <th>Volume</th>\n",
       "      <th>compound</th>\n",
       "      <th>negative</th>\n",
       "      <th>neutral</th>\n",
       "      <th>positive</th>\n",
       "    </tr>\n",
       "    <tr>\n",
       "      <th>Date</th>\n",
       "      <th></th>\n",
       "      <th></th>\n",
       "      <th></th>\n",
       "      <th></th>\n",
       "      <th></th>\n",
       "      <th></th>\n",
       "      <th></th>\n",
       "      <th></th>\n",
       "      <th></th>\n",
       "    </tr>\n",
       "  </thead>\n",
       "  <tbody>\n",
       "    <tr>\n",
       "      <th>2001-05-22</th>\n",
       "      <td>0.428571</td>\n",
       "      <td>0.430893</td>\n",
       "      <td>0.417857</td>\n",
       "      <td>0.419643</td>\n",
       "      <td>412916000.0</td>\n",
       "      <td>-0.9907</td>\n",
       "      <td>0.134</td>\n",
       "      <td>0.800</td>\n",
       "      <td>0.066</td>\n",
       "    </tr>\n",
       "    <tr>\n",
       "      <th>2001-05-25</th>\n",
       "      <td>0.414286</td>\n",
       "      <td>0.415893</td>\n",
       "      <td>0.401786</td>\n",
       "      <td>0.406429</td>\n",
       "      <td>158743200.0</td>\n",
       "      <td>0.0772</td>\n",
       "      <td>0.000</td>\n",
       "      <td>0.606</td>\n",
       "      <td>0.394</td>\n",
       "    </tr>\n",
       "    <tr>\n",
       "      <th>2001-05-29</th>\n",
       "      <td>0.398571</td>\n",
       "      <td>0.401786</td>\n",
       "      <td>0.371607</td>\n",
       "      <td>0.383393</td>\n",
       "      <td>515989600.0</td>\n",
       "      <td>-0.9584</td>\n",
       "      <td>0.081</td>\n",
       "      <td>0.847</td>\n",
       "      <td>0.072</td>\n",
       "    </tr>\n",
       "    <tr>\n",
       "      <th>2001-05-30</th>\n",
       "      <td>0.370714</td>\n",
       "      <td>0.370714</td>\n",
       "      <td>0.344643</td>\n",
       "      <td>0.353214</td>\n",
       "      <td>777078400.0</td>\n",
       "      <td>-0.5713</td>\n",
       "      <td>0.073</td>\n",
       "      <td>0.850</td>\n",
       "      <td>0.077</td>\n",
       "    </tr>\n",
       "    <tr>\n",
       "      <th>2001-06-01</th>\n",
       "      <td>0.359464</td>\n",
       "      <td>0.376607</td>\n",
       "      <td>0.356786</td>\n",
       "      <td>0.373036</td>\n",
       "      <td>456075200.0</td>\n",
       "      <td>0.0000</td>\n",
       "      <td>0.000</td>\n",
       "      <td>1.000</td>\n",
       "      <td>0.000</td>\n",
       "    </tr>\n",
       "    <tr>\n",
       "      <th>...</th>\n",
       "      <td>...</td>\n",
       "      <td>...</td>\n",
       "      <td>...</td>\n",
       "      <td>...</td>\n",
       "      <td>...</td>\n",
       "      <td>...</td>\n",
       "      <td>...</td>\n",
       "      <td>...</td>\n",
       "      <td>...</td>\n",
       "    </tr>\n",
       "    <tr>\n",
       "      <th>2020-12-24</th>\n",
       "      <td>131.320007</td>\n",
       "      <td>133.460007</td>\n",
       "      <td>131.100006</td>\n",
       "      <td>131.970001</td>\n",
       "      <td>54930100.0</td>\n",
       "      <td>-0.9971</td>\n",
       "      <td>0.082</td>\n",
       "      <td>0.854</td>\n",
       "      <td>0.064</td>\n",
       "    </tr>\n",
       "    <tr>\n",
       "      <th>2020-12-28</th>\n",
       "      <td>133.990005</td>\n",
       "      <td>137.339996</td>\n",
       "      <td>133.509995</td>\n",
       "      <td>136.690002</td>\n",
       "      <td>124486200.0</td>\n",
       "      <td>-0.9997</td>\n",
       "      <td>0.126</td>\n",
       "      <td>0.789</td>\n",
       "      <td>0.085</td>\n",
       "    </tr>\n",
       "    <tr>\n",
       "      <th>2020-12-29</th>\n",
       "      <td>138.050003</td>\n",
       "      <td>138.789993</td>\n",
       "      <td>134.339996</td>\n",
       "      <td>134.869995</td>\n",
       "      <td>121047300.0</td>\n",
       "      <td>-0.9998</td>\n",
       "      <td>0.136</td>\n",
       "      <td>0.774</td>\n",
       "      <td>0.090</td>\n",
       "    </tr>\n",
       "    <tr>\n",
       "      <th>2020-12-30</th>\n",
       "      <td>135.580002</td>\n",
       "      <td>135.990005</td>\n",
       "      <td>133.399994</td>\n",
       "      <td>133.720001</td>\n",
       "      <td>96452100.0</td>\n",
       "      <td>-0.9998</td>\n",
       "      <td>0.126</td>\n",
       "      <td>0.797</td>\n",
       "      <td>0.077</td>\n",
       "    </tr>\n",
       "    <tr>\n",
       "      <th>2020-12-31</th>\n",
       "      <td>134.080002</td>\n",
       "      <td>134.740005</td>\n",
       "      <td>131.720001</td>\n",
       "      <td>132.690002</td>\n",
       "      <td>99116600.0</td>\n",
       "      <td>-0.9996</td>\n",
       "      <td>0.124</td>\n",
       "      <td>0.783</td>\n",
       "      <td>0.094</td>\n",
       "    </tr>\n",
       "  </tbody>\n",
       "</table>\n",
       "<p>4923 rows × 9 columns</p>\n",
       "</div>"
      ],
      "text/plain": [
       "                  Open        High         Low       Close       Volume  \\\n",
       "Date                                                                      \n",
       "2001-05-22    0.428571    0.430893    0.417857    0.419643  412916000.0   \n",
       "2001-05-25    0.414286    0.415893    0.401786    0.406429  158743200.0   \n",
       "2001-05-29    0.398571    0.401786    0.371607    0.383393  515989600.0   \n",
       "2001-05-30    0.370714    0.370714    0.344643    0.353214  777078400.0   \n",
       "2001-06-01    0.359464    0.376607    0.356786    0.373036  456075200.0   \n",
       "...                ...         ...         ...         ...          ...   \n",
       "2020-12-24  131.320007  133.460007  131.100006  131.970001   54930100.0   \n",
       "2020-12-28  133.990005  137.339996  133.509995  136.690002  124486200.0   \n",
       "2020-12-29  138.050003  138.789993  134.339996  134.869995  121047300.0   \n",
       "2020-12-30  135.580002  135.990005  133.399994  133.720001   96452100.0   \n",
       "2020-12-31  134.080002  134.740005  131.720001  132.690002   99116600.0   \n",
       "\n",
       "            compound  negative  neutral  positive  \n",
       "Date                                               \n",
       "2001-05-22   -0.9907     0.134    0.800     0.066  \n",
       "2001-05-25    0.0772     0.000    0.606     0.394  \n",
       "2001-05-29   -0.9584     0.081    0.847     0.072  \n",
       "2001-05-30   -0.5713     0.073    0.850     0.077  \n",
       "2001-06-01    0.0000     0.000    1.000     0.000  \n",
       "...              ...       ...      ...       ...  \n",
       "2020-12-24   -0.9971     0.082    0.854     0.064  \n",
       "2020-12-28   -0.9997     0.126    0.789     0.085  \n",
       "2020-12-29   -0.9998     0.136    0.774     0.090  \n",
       "2020-12-30   -0.9998     0.126    0.797     0.077  \n",
       "2020-12-31   -0.9996     0.124    0.783     0.094  \n",
       "\n",
       "[4923 rows x 9 columns]"
      ]
     },
     "execution_count": 2,
     "metadata": {},
     "output_type": "execute_result"
    }
   ],
   "source": [
    "#reading the data\n",
    "df=pd.read_csv(\"finalized_stock_data.csv\",index_col=False)\n",
    "#renaming the column\n",
    "df.rename(columns={\"Unnamed: 0\":\"Date\"},inplace=True)\n",
    "#setting date as the index column\n",
    "df.set_index(\"Date\",inplace=True)\n",
    "#displaying the dataset\n",
    "df"
   ]
  },
  {
   "cell_type": "markdown",
   "metadata": {},
   "source": [
    "_________________________________________________________________________________________________________________"
   ]
  },
  {
   "cell_type": "markdown",
   "metadata": {},
   "source": [
    "# 3. Data preprocessing for modelling"
   ]
  },
  {
   "cell_type": "markdown",
   "metadata": {},
   "source": [
    "### 3.1 Splitting the data into features and target variables"
   ]
  },
  {
   "cell_type": "code",
   "execution_count": 3,
   "metadata": {},
   "outputs": [],
   "source": [
    "#splitting the data into input and target variables\n",
    "x=df\n",
    "y=df[\"Close\"]\n",
    "#splitting the data into train set and test set\n",
    "training_set=x.iloc[:4000].values\n",
    "test_set=x.iloc[4000:].values"
   ]
  },
  {
   "cell_type": "markdown",
   "metadata": {},
   "source": [
    "### 3.2 Scaling the data"
   ]
  },
  {
   "cell_type": "code",
   "execution_count": 4,
   "metadata": {},
   "outputs": [],
   "source": [
    "#scaling the input features with the help of standard scaler\n",
    "sc=MinMaxScaler()\n",
    "training_set_scaled=sc.fit_transform(training_set)\n",
    "test_set_scaled=sc.fit_transform(test_set)"
   ]
  },
  {
   "cell_type": "markdown",
   "metadata": {},
   "source": [
    "### 3.3 Generating train and test data based on past 100 days "
   ]
  },
  {
   "cell_type": "code",
   "execution_count": 5,
   "metadata": {},
   "outputs": [],
   "source": [
    "# the model will look into past 100 timesteps predict the next feature and will continue to do so\n",
    "length=100\n",
    "#the training set creation\n",
    "x_train=[]\n",
    "y_train=[]\n",
    "for i in range(length,len(training_set)):\n",
    "    x_train.append(training_set_scaled[i-length:i,0])\n",
    "    y_train.append(training_set_scaled[i,0])\n",
    "#converting train set into array\n",
    "x_train,y_train=np.array(x_train),np.array(y_train)\n",
    "x_train=np.reshape(x_train,(x_train.shape[0],x_train.shape[1],1))\n",
    "\n",
    "\n",
    "# The testing set creation\n",
    "x_test=[]\n",
    "y_test=[]\n",
    "for i in range(length,len(test_set)):\n",
    "    x_test.append(test_set_scaled[i-length:i,0])\n",
    "    y_test.append(test_set_scaled[i,0])\n",
    "# converting test set into array\n",
    "x_test,y_test=np.array(x_test),np.array(y_test)\n",
    "x_test=np.reshape(x_test,(x_test.shape[0],x_test.shape[1],1))"
   ]
  },
  {
   "cell_type": "code",
   "execution_count": 6,
   "metadata": {},
   "outputs": [
    {
     "data": {
      "text/plain": [
       "((3900, 100, 1), (3900,), (823, 100, 1), (823,))"
      ]
     },
     "execution_count": 6,
     "metadata": {},
     "output_type": "execute_result"
    }
   ],
   "source": [
    "#checking the shape of the created datastructures\n",
    "x_train.shape,y_train.shape,x_test.shape,y_test.shape"
   ]
  },
  {
   "cell_type": "markdown",
   "metadata": {},
   "source": [
    "___________________________________________________________________________________________________"
   ]
  },
  {
   "cell_type": "markdown",
   "metadata": {},
   "source": [
    "# 4. Modelling"
   ]
  },
  {
   "cell_type": "markdown",
   "metadata": {},
   "source": [
    "The LSTM model will learn a function that maps a sequence of past observations as input to an output observation. ... We can divide the sequence into multiple input/output patterns called samples, where three time steps are used as input and one time step is used as output for the one-step prediction that is being learned"
   ]
  },
  {
   "cell_type": "markdown",
   "metadata": {},
   "source": [
    "### 4.1 Defining LSTM model architecture"
   ]
  },
  {
   "cell_type": "code",
   "execution_count": 7,
   "metadata": {},
   "outputs": [
    {
     "name": "stdout",
     "output_type": "stream",
     "text": [
      "Model: \"sequential\"\n",
      "_________________________________________________________________\n",
      "Layer (type)                 Output Shape              Param #   \n",
      "=================================================================\n",
      "lstm (LSTM)                  (None, 100, 100)          40800     \n",
      "_________________________________________________________________\n",
      "dropout (Dropout)            (None, 100, 100)          0         \n",
      "_________________________________________________________________\n",
      "lstm_1 (LSTM)                (None, 100, 100)          80400     \n",
      "_________________________________________________________________\n",
      "dropout_1 (Dropout)          (None, 100, 100)          0         \n",
      "_________________________________________________________________\n",
      "lstm_2 (LSTM)                (None, 100)               80400     \n",
      "_________________________________________________________________\n",
      "dropout_2 (Dropout)          (None, 100)               0         \n",
      "_________________________________________________________________\n",
      "dense (Dense)                (None, 1)                 101       \n",
      "=================================================================\n",
      "Total params: 201,701\n",
      "Trainable params: 201,701\n",
      "Non-trainable params: 0\n",
      "_________________________________________________________________\n"
     ]
    }
   ],
   "source": [
    "# setting the model architecture\n",
    "model=Sequential()\n",
    "model.add(LSTM(units=100,return_sequences=True,input_shape=(x_train.shape[1], 1),activation=\"tanh\"))\n",
    "model.add(Dropout(0.2))\n",
    "model.add(LSTM(units=100,return_sequences=True,activation=\"tanh\"))\n",
    "model.add(Dropout(0.2))\n",
    "model.add(LSTM(units=100,return_sequences=False,activation=\"tanh\"))\n",
    "model.add(Dropout(0.2))\n",
    "model.add(Dense(1))\n",
    "#printing model summary\n",
    "model.summary()"
   ]
  },
  {
   "cell_type": "markdown",
   "metadata": {},
   "source": [
    "### 4.2 Model fitting and compiling"
   ]
  },
  {
   "cell_type": "code",
   "execution_count": 8,
   "metadata": {},
   "outputs": [
    {
     "name": "stdout",
     "output_type": "stream",
     "text": [
      "Epoch 1/10\n",
      "178/178 [==============================] - 118s 578ms/step - loss: 0.0031 - val_loss: 0.2557\n",
      "Epoch 2/10\n",
      "178/178 [==============================] - 111s 624ms/step - loss: 0.0100 - val_loss: 0.4239\n",
      "Epoch 3/10\n",
      "178/178 [==============================] - 118s 664ms/step - loss: 0.0132 - val_loss: 0.5261\n",
      "Epoch 4/10\n",
      "178/178 [==============================] - 127s 714ms/step - loss: 0.0203 - val_loss: 0.3414\n",
      "Epoch 5/10\n",
      "178/178 [==============================] - 106s 598ms/step - loss: 0.0174 - val_loss: 0.0490\n",
      "Epoch 6/10\n",
      "178/178 [==============================] - 45s 253ms/step - loss: 0.0049 - val_loss: 0.0012\n",
      "Epoch 7/10\n",
      "178/178 [==============================] - 44s 247ms/step - loss: 0.0011 - val_loss: 0.0012\n",
      "Epoch 8/10\n",
      "178/178 [==============================] - 44s 247ms/step - loss: 0.0015 - val_loss: 7.7501e-04\n",
      "Epoch 9/10\n",
      "178/178 [==============================] - 44s 248ms/step - loss: 0.0010 - val_loss: 8.9322e-04\n",
      "Epoch 10/10\n",
      "178/178 [==============================] - 44s 248ms/step - loss: 9.1241e-04 - val_loss: 0.0016\n"
     ]
    }
   ],
   "source": [
    "# introducing early stopping if val loss doesn't go down for 4 iterations\n",
    "es=EarlyStopping(monitor=\"val_loss\",patience=4,mode=\"min\")\n",
    "#compiling\n",
    "model.compile(optimizer=\"adam\",loss=\"mse\")\n",
    "#fitting the model\n",
    "history=model.fit(x_train,y_train,validation_data=(x_test,y_test),epochs=10,batch_size=22,shuffle=False,callbacks=[es])"
   ]
  },
  {
   "cell_type": "markdown",
   "metadata": {},
   "source": [
    "_______________________________________________________________________________________________________"
   ]
  },
  {
   "cell_type": "markdown",
   "metadata": {},
   "source": [
    "### 4.3 comparing the validation and training loss"
   ]
  },
  {
   "cell_type": "code",
   "execution_count": 9,
   "metadata": {},
   "outputs": [
    {
     "data": {
      "text/plain": [
       "<matplotlib.legend.Legend at 0x190d51b0820>"
      ]
     },
     "execution_count": 9,
     "metadata": {},
     "output_type": "execute_result"
    },
    {
     "data": {
      "image/png": "[encoded data removed]",
      "text/plain": [
       "<Figure size 1080x360 with 1 Axes>"
      ]
     },
     "metadata": {},
     "output_type": "display_data"
    }
   ],
   "source": [
    "#creating the dataframe contaning the validation loss and  train_inver_transform\n",
    "loss=pd.DataFrame(model.history.history)\n",
    "plt.figure(figsize=(15,5))\n",
    "plt.plot(loss)\n",
    "plt.title(\"losses vs epochs\")\n",
    "plt.legend([\"train_loss\",\"validation_loss\"])"
   ]
  },
  {
   "cell_type": "markdown",
   "metadata": {},
   "source": [
    "# 5 Saving the model to the disk"
   ]
  },
  {
   "cell_type": "code",
   "execution_count": 11,
   "metadata": {},
   "outputs": [
    {
     "name": "stdout",
     "output_type": "stream",
     "text": [
      "model saved to the disk\n"
     ]
    }
   ],
   "source": [
    "#saving model to the disk as json file\n",
    "model_json=model.to_json()\n",
    "with open(\"model.json\",\"w\") as json_file:\n",
    "    json_file.write(model_json)\n",
    "\n",
    "#serialize weights to HDF5\n",
    "model.save_weights(\"model.h5\")\n",
    "print(\"model saved to the disk\")"
   ]
  },
  {
   "cell_type": "markdown",
   "metadata": {},
   "source": [
    "______________________________________________________________________________________________________"
   ]
  },
  {
   "cell_type": "markdown",
   "metadata": {},
   "source": [
    "# 6. Transforming the scaled data to it's original form"
   ]
  },
  {
   "cell_type": "code",
   "execution_count": null,
   "metadata": {},
   "outputs": [],
   "source": [
    "#predicting through the model\n",
    "pred=model.predict(x_test)"
   ]
  },
  {
   "cell_type": "code",
   "execution_count": 21,
   "metadata": {},
   "outputs": [
    {
     "data": {
      "text/plain": [
       "(array([9.77278232e-03, 9.71675721e-03, 1.01173618e-02, 9.88704046e-03,\n",
       "        2.62424487e-09, 5.00075011e-01, 7.75193798e+00, 7.19424460e+00,\n",
       "        1.23456790e+01]),\n",
       "                   Open        High         Low       Close       Volume  \\\n",
       " Date                                                                      \n",
       " 2001-05-22    0.428571    0.430893    0.417857    0.419643  412916000.0   \n",
       " 2001-05-25    0.414286    0.415893    0.401786    0.406429  158743200.0   \n",
       " 2001-05-29    0.398571    0.401786    0.371607    0.383393  515989600.0   \n",
       " 2001-05-30    0.370714    0.370714    0.344643    0.353214  777078400.0   \n",
       " 2001-06-01    0.359464    0.376607    0.356786    0.373036  456075200.0   \n",
       " ...                ...         ...         ...         ...          ...   \n",
       " 2020-12-24  131.320007  133.460007  131.100006  131.970001   54930100.0   \n",
       " 2020-12-28  133.990005  137.339996  133.509995  136.690002  124486200.0   \n",
       " 2020-12-29  138.050003  138.789993  134.339996  134.869995  121047300.0   \n",
       " 2020-12-30  135.580002  135.990005  133.399994  133.720001   96452100.0   \n",
       " 2020-12-31  134.080002  134.740005  131.720001  132.690002   99116600.0   \n",
       " \n",
       "             compound  negative  neutral  positive  \n",
       " Date                                               \n",
       " 2001-05-22   -0.9907     0.134    0.800     0.066  \n",
       " 2001-05-25    0.0772     0.000    0.606     0.394  \n",
       " 2001-05-29   -0.9584     0.081    0.847     0.072  \n",
       " 2001-05-30   -0.5713     0.073    0.850     0.077  \n",
       " 2001-06-01    0.0000     0.000    1.000     0.000  \n",
       " ...              ...       ...      ...       ...  \n",
       " 2020-12-24   -0.9971     0.082    0.854     0.064  \n",
       " 2020-12-28   -0.9997     0.126    0.789     0.085  \n",
       " 2020-12-29   -0.9998     0.136    0.774     0.090  \n",
       " 2020-12-30   -0.9998     0.126    0.797     0.077  \n",
       " 2020-12-31   -0.9996     0.124    0.783     0.094  \n",
       " \n",
       " [4923 rows x 9 columns])"
      ]
     },
     "execution_count": 21,
     "metadata": {},
     "output_type": "execute_result"
    }
   ],
   "source": [
    "#checking the scales and comparing it with our closing price column\n",
    "sc.scale_,df"
   ]
  },
  {
   "cell_type": "code",
   "execution_count": 25,
   "metadata": {},
   "outputs": [],
   "source": [
    "# the 4th column is \"close\" so we should scale our values by the 4th value(corresponding value) in the scale array\n",
    "scale=1/9.88704046e-03\n",
    "#scaling the predicted values\n",
    "pred=pred*scale\n",
    "#scaling the test values\n",
    "test=y_test*scale"
   ]
  },
  {
   "cell_type": "code",
   "execution_count": 26,
   "metadata": {},
   "outputs": [
    {
     "data": {
      "text/html": [
       "<div>\n",
       "<style scoped>\n",
       "    .dataframe tbody tr th:only-of-type {\n",
       "        vertical-align: middle;\n",
       "    }\n",
       "\n",
       "    .dataframe tbody tr th {\n",
       "        vertical-align: top;\n",
       "    }\n",
       "\n",
       "    .dataframe thead th {\n",
       "        text-align: right;\n",
       "    }\n",
       "</style>\n",
       "<table border=\"1\" class=\"dataframe\">\n",
       "  <thead>\n",
       "    <tr style=\"text-align: right;\">\n",
       "      <th></th>\n",
       "      <th>test</th>\n",
       "      <th>pred</th>\n",
       "    </tr>\n",
       "  </thead>\n",
       "  <tbody>\n",
       "    <tr>\n",
       "      <th>0</th>\n",
       "      <td>2.194347</td>\n",
       "      <td>4.580080</td>\n",
       "    </tr>\n",
       "    <tr>\n",
       "      <th>1</th>\n",
       "      <td>2.693512</td>\n",
       "      <td>4.169977</td>\n",
       "    </tr>\n",
       "    <tr>\n",
       "      <th>2</th>\n",
       "      <td>2.715751</td>\n",
       "      <td>3.836868</td>\n",
       "    </tr>\n",
       "    <tr>\n",
       "      <th>3</th>\n",
       "      <td>2.547717</td>\n",
       "      <td>3.627636</td>\n",
       "    </tr>\n",
       "    <tr>\n",
       "      <th>4</th>\n",
       "      <td>2.807181</td>\n",
       "      <td>3.529917</td>\n",
       "    </tr>\n",
       "    <tr>\n",
       "      <th>5</th>\n",
       "      <td>2.745403</td>\n",
       "      <td>3.536793</td>\n",
       "    </tr>\n",
       "    <tr>\n",
       "      <th>6</th>\n",
       "      <td>2.651503</td>\n",
       "      <td>3.610896</td>\n",
       "    </tr>\n",
       "    <tr>\n",
       "      <th>7</th>\n",
       "      <td>2.787411</td>\n",
       "      <td>3.704805</td>\n",
       "    </tr>\n",
       "    <tr>\n",
       "      <th>8</th>\n",
       "      <td>2.982631</td>\n",
       "      <td>3.796498</td>\n",
       "    </tr>\n",
       "    <tr>\n",
       "      <th>9</th>\n",
       "      <td>3.190203</td>\n",
       "      <td>3.884518</td>\n",
       "    </tr>\n",
       "  </tbody>\n",
       "</table>\n",
       "</div>"
      ],
      "text/plain": [
       "       test      pred\n",
       "0  2.194347  4.580080\n",
       "1  2.693512  4.169977\n",
       "2  2.715751  3.836868\n",
       "3  2.547717  3.627636\n",
       "4  2.807181  3.529917\n",
       "5  2.745403  3.536793\n",
       "6  2.651503  3.610896\n",
       "7  2.787411  3.704805\n",
       "8  2.982631  3.796498\n",
       "9  3.190203  3.884518"
      ]
     },
     "execution_count": 26,
     "metadata": {},
     "output_type": "execute_result"
    }
   ],
   "source": [
    "#creating the dataframe of test values vs predicted values\n",
    "test_vs_pred=pd.DataFrame(columns=[\"test\",\"pred\"])\n",
    "test_vs_pred[\"test\"]=test\n",
    "test_vs_pred[\"pred\"]=pred.flatten()\n",
    "#checking the dataframne created\n",
    "test_vs_pred.head(10)"
   ]
  },
  {
   "cell_type": "markdown",
   "metadata": {},
   "source": [
    "____________________________________________________________________________________________________"
   ]
  },
  {
   "cell_type": "markdown",
   "metadata": {},
   "source": [
    "# 7. Model evaluation"
   ]
  },
  {
   "cell_type": "code",
   "execution_count": 33,
   "metadata": {},
   "outputs": [
    {
     "data": {
      "text/plain": [
       "Text(700, 22, 'MSE:15.95')"
      ]
     },
     "execution_count": 33,
     "metadata": {},
     "output_type": "execute_result"
    },
    {
     "data": {
      "image/png": "[encoded data removed]",
      "text/plain": [
       "<Figure size 1080x504 with 1 Axes>"
      ]
     },
     "metadata": {},
     "output_type": "display_data"
    }
   ],
   "source": [
    "\n",
    "#the lineplot\n",
    "plt.figure(figsize=(15,7))\n",
    "plt.plot(test_vs_pred)\n",
    "plt.title(\"Test values vs Predicted values\")\n",
    "plt.legend([\"test\",\"pred\"])\n",
    "#calculating the losses\n",
    "r2=np.round(r2_score(test,pred),2)\n",
    "mse=np.round(mean_squared_error(test,pred),2)\n",
    "#incorporating the losses in the plot\n",
    "plt.text(x=700,y=17,s=\"R2 score:{}\".format(r2))\n",
    "plt.text(x=700,y=22,s=\"MSE:{}\".format(mse))"
   ]
  },
  {
   "cell_type": "markdown",
   "metadata": {},
   "source": [
    "# 8. Saving the predictions to the disk"
   ]
  },
  {
   "cell_type": "code",
   "execution_count": 34,
   "metadata": {},
   "outputs": [],
   "source": [
    "test_vs_pred.to_csv(\"final predictions.csv\")"
   ]
  },
  {
   "cell_type": "markdown",
   "metadata": {},
   "source": [
    "_________________________________________________________________________________________________________________________________________"
   ]
  },
  {
   "cell_type": "code",
   "execution_count": null,
   "metadata": {},
   "outputs": [],
   "source": []
  },
  {
   "cell_type": "code",
   "execution_count": null,
   "metadata": {},
   "outputs": [],
   "source": []
  },
  {
   "cell_type": "code",
   "execution_count": null,
   "metadata": {},
   "outputs": [],
   "source": []
  }
 ],
 "metadata": {
  "kernelspec": {
   "display_name": "Python 3",
   "language": "python",
   "name": "python3"
  },
  "language_info": {
   "codemirror_mode": {
    "name": "ipython",
    "version": 3
   },
   "file_extension": ".py",
   "mimetype": "text/x-python",
   "name": "python",
   "nbconvert_exporter": "python",
   "pygments_lexer": "ipython3",
   "version": "3.8.5"
  }
 },
 "nbformat": 4,
 "nbformat_minor": 4
}
